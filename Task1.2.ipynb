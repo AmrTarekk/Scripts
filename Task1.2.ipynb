{
 "cells": [
  {
   "cell_type": "code",
   "execution_count": 1,
   "metadata": {},
   "outputs": [],
   "source": [
    "import pandas as pd\n",
    "import cv2\n",
    "import os\n",
    "import numpy as np"
   ]
  },
  {
   "cell_type": "markdown",
   "metadata": {},
   "source": [
    "# Creating and Appending in csv file"
   ]
  },
  {
   "cell_type": "code",
   "execution_count": 2,
   "metadata": {},
   "outputs": [
    {
     "data": {
      "text/plain": [
       "\"\\nraw_data = {'Name':[], 'ID':[], 'Path':[]}\\ndf = pd.DataFrame(raw_data, columns = ['Name', 'ID', 'Path'])\\ndf.to_csv('Sample.csv')\\ndf\\n\""
      ]
     },
     "execution_count": 2,
     "metadata": {},
     "output_type": "execute_result"
    }
   ],
   "source": [
    "#Creating CSV file\n",
    "'''\n",
    "raw_data = {'Name':[], 'ID':[], 'Path':[]}\n",
    "df = pd.DataFrame(raw_data, columns = ['Name', 'ID', 'Path'])\n",
    "df.to_csv('Sample.csv')\n",
    "df\n",
    "'''"
   ]
  },
  {
   "cell_type": "code",
   "execution_count": 3,
   "metadata": {},
   "outputs": [],
   "source": [
    "def Appending(Name,Num,Path):\n",
    "    ds = pd.read_csv('Sample.csv',index_col=0)\n",
    "    length = len(ds)\n",
    "    ds.loc[length] =[Name,Num,Path]\n",
    "    ds.to_csv('Sample.csv')"
   ]
  },
  {
   "cell_type": "markdown",
   "metadata": {},
   "source": [
    "# Taking 5 photos of the user "
   ]
  },
  {
   "cell_type": "code",
   "execution_count": 4,
   "metadata": {},
   "outputs": [],
   "source": [
    "def createfolder(name) :\n",
    "    newpath = 'Your Directory Path'+name \n",
    "    if not os.path.exists(newpath):\n",
    "        os.makedirs(newpath)"
   ]
  },
  {
   "cell_type": "code",
   "execution_count": 5,
   "metadata": {},
   "outputs": [],
   "source": [
    "def FivePhotos(num) :\n",
    "    cam = cv2.VideoCapture(0)\n",
    "\n",
    "    cv2.namedWindow(\"FivePhotos\")\n",
    "\n",
    "    img_counter = 1\n",
    "\n",
    "    while True:\n",
    "        ret, frame = cam.read()\n",
    "        cv2.imshow(\"FivePhotos\", frame)\n",
    "        if not ret:\n",
    "            break\n",
    "        k = cv2.waitKey(1)\n",
    "\n",
    "        if img_counter == 6:\n",
    "            print(\"Thank's for your time.\")\n",
    "            break\n",
    "        elif k%256 == 32: #Space\n",
    "            img_name = \"opencv_frame_{}.png\".format(img_counter)\n",
    "            path = 'Your Directory Path'+str(num)\n",
    "            #print(FaceOrNot(frame))\n",
    "            if FaceOrNot(frame) == True :\n",
    "                createfolder(str(num))\n",
    "                cv2.imwrite(os.path.join(path , img_name), frame)\n",
    "                img_counter += 1\n",
    "\n",
    "    cam.release()\n",
    "\n",
    "    cv2.destroyAllWindows()\n",
    "    \n",
    "    return path"
   ]
  },
  {
   "cell_type": "markdown",
   "metadata": {},
   "source": [
    "# we have captured a face ?"
   ]
  },
  {
   "cell_type": "code",
   "execution_count": 6,
   "metadata": {},
   "outputs": [],
   "source": [
    "def FaceOrNot(img) :\n",
    "    face_cascade = cv2.CascadeClassifier('haarcascade_frontalface_default.xml')\n",
    "    gray = cv2.cvtColor(img, cv2.COLOR_BGR2GRAY)\n",
    "    faces = face_cascade.detectMultiScale(gray, 1.3, 5)\n",
    "    #print(faces)\n",
    "    if faces == () :\n",
    "        return False\n",
    "    else :\n",
    "        return True"
   ]
  },
  {
   "cell_type": "markdown",
   "metadata": {},
   "source": [
    "# Main "
   ]
  },
  {
   "cell_type": "code",
   "execution_count": 7,
   "metadata": {},
   "outputs": [],
   "source": [
    "def UniqueID(ID):\n",
    "    dsx = pd.read_csv('Sample.csv',index_col=0)\n",
    "    saved_column = list(dsx['ID'])\n",
    "    if ID in saved_column :\n",
    "        return False\n",
    "    else :\n",
    "        return True"
   ]
  },
  {
   "cell_type": "code",
   "execution_count": 8,
   "metadata": {},
   "outputs": [
    {
     "name": "stdout",
     "output_type": "stream",
     "text": [
      "Enter your name please : Amr\n",
      "Enter your ID please : 10\n",
      "Press Space to take a photo , Please Take 5 Photos\n"
     ]
    },
    {
     "name": "stderr",
     "output_type": "stream",
     "text": [
      "/home/amr/anaconda3/lib/python3.7/site-packages/ipykernel_launcher.py:6: DeprecationWarning: elementwise == comparison failed; this will raise an error in the future.\n",
      "  \n"
     ]
    },
    {
     "name": "stdout",
     "output_type": "stream",
     "text": [
      "Thank's for your time.\n"
     ]
    }
   ],
   "source": [
    "Name = input(\"Enter your name please : \")\n",
    "while(True) :\n",
    "    Num = input(\"Enter your ID please : \")\n",
    "    if UniqueID(int(Num)) == True : \n",
    "        break \n",
    "print(\"Press Space to take a photo , Please Take 5 Photos\")\n",
    "Path = FivePhotos(Num)\n",
    "Appending(Name,Num,Path)"
   ]
  },
  {
   "cell_type": "code",
   "execution_count": null,
   "metadata": {},
   "outputs": [],
   "source": []
  },
  {
   "cell_type": "code",
   "execution_count": 48,
   "metadata": {},
   "outputs": [],
   "source": []
  },
  {
   "cell_type": "code",
   "execution_count": null,
   "metadata": {},
   "outputs": [],
   "source": []
  }
 ],
 "metadata": {
  "kernelspec": {
   "display_name": "Python 2",
   "language": "python",
   "name": "python2"
  },
  "language_info": {
   "codemirror_mode": {
    "name": "ipython",
    "version": 3
   },
   "file_extension": ".py",
   "mimetype": "text/x-python",
   "name": "python",
   "nbconvert_exporter": "python",
   "pygments_lexer": "ipython3",
   "version": "3.7.0"
  }
 },
 "nbformat": 4,
 "nbformat_minor": 2
}
